{
 "cells": [
  {
   "cell_type": "code",
   "execution_count": 287,
   "metadata": {},
   "outputs": [],
   "source": [
    "# important library\n",
    "import psycopg2\n",
    "import psycopg2.extras\n",
    "import sys\n",
    "import pprint\n",
    "import pandas as pd\n",
    "import numpy as np\n",
    "import matplotlib.pyplot as plt\n",
    "import json\n",
    "import re\n",
    "from PIL import Image\n",
    "import PIL.Image\n",
    "import collections\n",
    "import io\n",
    "from IPython.display import Image\n",
    "from shapely.geometry.multipolygon import MultiPolygon\n",
    "from shapely.geometry.polygon import Polygon\n",
    "import geopandas as gpd"
   ]
  },
  {
   "cell_type": "code",
   "execution_count": 2,
   "metadata": {},
   "outputs": [
    {
     "name": "stdout",
     "output_type": "stream",
     "text": [
      "Connecting to database\n",
      "\t->host='localhost' dbname='WTP_NUS_library'\n",
      "Connected!\n",
      "\n"
     ]
    }
   ],
   "source": [
    "# connect to database. Postgres must be opened!\n",
    "conn_string = \"host='localhost' dbname='WTP_NUS_library'\"\n",
    "print (\"Connecting to database\\n\t->%s\" % (conn_string))\n",
    "conn = psycopg2.connect(conn_string)\n",
    "print (\"Connected!\\n\")"
   ]
  },
  {
   "cell_type": "code",
   "execution_count": 3,
   "metadata": {},
   "outputs": [],
   "source": [
    "# all users\n",
    "db_users = pd.read_sql_query (\"SELECT * FROM \\\"user\\\"\", conn)\n",
    "# number of submission for each users\n",
    "db_count_submissions = pd.read_sql_query(\"\"\"SELECT author_id,COUNT(scenario.id) as n FROM SCENARIO GROUP BY author_id ORDER BY author_id\"\"\",conn)\n",
    "# latest submission\n",
    "db_scenarios_late = pd.read_sql_query(\"SELECT id, author_id, last_update, description, image, encode(geometry,'escape') as geo FROM scenario as a WHERE id = (SELECT max(b.id) FROM scenario as b where a.author_id = b.author_id) ORDER BY author_id\", conn)"
   ]
  },
  {
   "cell_type": "code",
   "execution_count": 4,
   "metadata": {},
   "outputs": [],
   "source": [
    "# all user actions\n",
    "db_user_scenario_load =pd.read_sql_query( \"SELECT * FROM user_scenario_load\",conn)\n",
    "db_user_scenario_update =pd.read_sql_query( \"SELECT * FROM user_scenario_update\",conn)\n",
    "db_user_scenario_action =pd.read_sql_query( \"SELECT * FROM user_scenario_action\",conn)"
   ]
  },
  {
   "cell_type": "code",
   "execution_count": 5,
   "metadata": {},
   "outputs": [],
   "source": [
    "# all cross feedback\n",
    "db_criterion = pd.read_sql_query( \"SELECT * FROM criterion\",conn)\n",
    "db_vote = pd.read_sql_query( \"SELECT * FROM vote\",conn)\n",
    "db_peer_review = pd.read_sql_query( \"SELECT * FROM review\",conn)\n",
    "db_expert_review = pd.read_sql_query(\"SELECT * FROM  expert_review\",conn)\n",
    "db_voter_score = pd.read_sql_query(\"SELECT * FROM vote_rating\", conn)\n",
    "db_voter_scenario = pd.read_sql_query(\"SELECT * FROM scenario\", conn)"
   ]
  },
  {
   "cell_type": "code",
   "execution_count": 6,
   "metadata": {},
   "outputs": [],
   "source": [
    "# final grade and ratings\n",
    "db_grade = pd.read_sql_query(\"SELECT * FROM current_scenario\", conn)"
   ]
  },
  {
   "cell_type": "code",
   "execution_count": 7,
   "metadata": {},
   "outputs": [],
   "source": [
    "#Short cuts for important tables\n",
    "ld = db_user_scenario_load\n",
    "ud = db_user_scenario_update\n",
    "ac = db_user_scenario_action\n",
    "lt = db_scenarios_late"
   ]
  },
  {
   "cell_type": "markdown",
   "metadata": {},
   "source": [
    "## Let's start the data analysis..."
   ]
  },
  {
   "cell_type": "markdown",
   "metadata": {},
   "source": [
    "Reading data and data cleansing"
   ]
  },
  {
   "cell_type": "code",
   "execution_count": 8,
   "metadata": {},
   "outputs": [],
   "source": [
    "## Extract the geojson data from all designs\n",
    "\n",
    "regex = re.compile(r'\\\\(?![/u\"])')\n",
    "for i, geo_val in enumerate(db_scenarios_late.geo):\n",
    "  #Select if Exercise 1a, 1b or 1c should be chosen. It is the 19th letter in each db_scenarios_late.geo file\n",
    "  if lt.geo[i][19]=='a':\n",
    "    fixed = regex.sub(r\"\\\\\\\\\", geo_val) #remove the \"/\" in some fields to for json conversion\n",
    "    b = json.loads(fixed)\n",
    "    # this would remove an empty MultiLineString object so that it can be displayed in the current qua-viewer. However the shape is still distorted because of the limitation of allowed vertex\n",
    "    with open(\"output/geo_a_\" + str(db_scenarios_late.loc[i,'author_id']) + \".json\",\"w\") as f:\n",
    "        json.dump(b,f)"
   ]
  },
  {
   "cell_type": "code",
   "execution_count": 9,
   "metadata": {},
   "outputs": [],
   "source": [
    "#Read the original geojson file for the exercise\n",
    "geo = gpd.read_file('Exercise_1a_reflex_for_upload.geojson')"
   ]
  },
  {
   "cell_type": "code",
   "execution_count": 10,
   "metadata": {},
   "outputs": [],
   "source": [
    "#Create dictionary with all geojson files for exercise 1a\n",
    "geo_a={}\n",
    "for i,j in enumerate(lt['author_id']):\n",
    "    if lt.geo[i][19]=='a':\n",
    "        geo_a[\"geo_author_{0}\".format(j)]= gpd.read_file('output/geo_a_'+str(j)+'.json')"
   ]
  },
  {
   "cell_type": "code",
   "execution_count": 96,
   "metadata": {},
   "outputs": [],
   "source": [
    "# Create list of all authors that worked on Exercise 1a\n",
    "author_id_a = []\n",
    "for i,j in enumerate(lt['author_id']):\n",
    "    if lt.geo[i][19]=='a':\n",
    "        author_id_a.append(j)\n",
    "# Delete buggy submissions (manually detected)\n",
    "y=[16]\n",
    "author_id_a = sorted(list(set(author_id_a).difference(set(y))))"
   ]
  },
  {
   "cell_type": "code",
   "execution_count": 12,
   "metadata": {},
   "outputs": [],
   "source": [
    "#Data correction: For 'Chinatown, Central Area', the precinctID is missing in the original data set\n",
    "for j in list(author_id_a):\n",
    "    for i in range(0,len(geo_a['geo_author_'+str(j)])):\n",
    "        if geo_a['geo_author_'+str(j)]['precinctName'][i] == \"Chinatown, Central Area\":\n",
    "            geo_a['geo_author_'+str(j)].loc[i,'precinctID'] = 102\n",
    "        if geo_a['geo_author_'+str(j)]['name'][i] == \"greenery small\":\n",
    "            geo_a['geo_author_'+str(j)].loc[i,'precinctID'] = 401\n",
    "        if geo_a['geo_author_'+str(j)]['name'][i] == \"greenery medium\":\n",
    "            geo_a['geo_author_'+str(j)].loc[i,'precinctID'] = 402\n",
    "        if geo_a['geo_author_'+str(j)]['name'][i] == \"greenery large\":\n",
    "            geo_a['geo_author_'+str(j)].loc[i,'precinctID'] = 403\n",
    "#Overwrite existing .json files with updated precinctID\n",
    "    with open('output/geo_a_'+str(j)+'.json', 'w') as f:\n",
    "        f.write(geo_a['geo_author_'+str(j)].to_json())\n",
    "#Change original geojson file with added precinctID for the greenery\n",
    "for i in range(1,len(geo)):\n",
    "    if geo.loc[i,'name'] == 'greenery small':\n",
    "        geo.loc[i,'precinctID'] = 401\n",
    "    if geo.loc[i,'name'] == 'greenery medium':\n",
    "        geo.loc[i,'precinctID'] = 402\n",
    "    if geo.loc[i,'name'] == 'greenery large':\n",
    "        geo.loc[i,'precinctID'] = 403\n",
    "with open('Exercise_1a_reflex_for_upload_updated.json', 'w') as f:\n",
    "        f.write(geo.to_json())"
   ]
  },
  {
   "cell_type": "markdown",
   "metadata": {},
   "source": [
    "Calculating the frequency of objects"
   ]
  },
  {
   "cell_type": "code",
   "execution_count": 74,
   "metadata": {},
   "outputs": [],
   "source": [
    "# Write function for the the number of elements placed\n",
    "\n",
    "def counter_old(file,obj):\n",
    "    #Check if file is a string\n",
    "    if isinstance(file, str) == False:\n",
    "        print('First variable must be a string variable')\n",
    "    \n",
    "    #Extract the integers/numbers out of a string\n",
    "    import re\n",
    "    author_id = re.findall(r'\\d+', file)\n",
    "\n",
    "    import geopandas as gpd\n",
    "    file = gpd.read_file('output/'+file+'.json')\n",
    "    #Here it is important to take the updated version of the original source file as 'greenery' needs values for 'precinctID'.\n",
    "    geo = gpd.read_file('Exercise_1a_reflex_for_upload_updated.json')\n",
    "    \n",
    "    \n",
    "    if obj == 'ALL':\n",
    "        #choose all buildings typologies, incl. greenery\n",
    "        colnames_num = [101,102,201,202,203,204,205,206,207,301,302,303,401,402,403]\n",
    "    if obj == 'buildings':\n",
    "        #choose all building typologies\n",
    "        colnames_num = [101,102,201,202,203,204,205,206,207,301,302,303]\n",
    "    if obj == 'low-rise':\n",
    "        #choose all low-rise\n",
    "        colnames_num = [101,102]\n",
    "    if obj == 'mid-rise':\n",
    "        #choose all mid-rise\n",
    "        colnames_num = [201,202,301]\n",
    "    if obj == 'high-rise':\n",
    "        #choose all high-rise\n",
    "        colnames_num = [203,204,205,206,207,302,303]\n",
    "    if obj == 'HDB':\n",
    "        #choose all HDB\n",
    "        colnames_num = [201,202,203,204,205,206,207]\n",
    "    if obj == 'Condo':\n",
    "        #choose all Condo\n",
    "        colnames_num = [301,302,303]\n",
    "    if obj == 'mixed-use':\n",
    "        #choose all building typologies that have a mixed-use\n",
    "        colnames_num = [102,202,203,204]\n",
    "    if obj == 'green_elements':\n",
    "        #choose all building typologies that have a green elements\n",
    "        colnames_num = [401,402,403]\n",
    "    if obj in [101,102,201,202,203,204,205,206,207,301,302,303,401,402,403]:\n",
    "        #choose the specific typology\n",
    "        colnames_num = [obj]\n",
    "        \n",
    "    #Create colnames for dataframe\n",
    "    colnames=[]\n",
    "    for i in colnames_num:\n",
    "        colnames.append('count_'+str(i))\n",
    "    \n",
    "    import pandas as pd\n",
    "    freq = pd.DataFrame(columns=colnames)  # dataframe\n",
    "    \n",
    "    import collections\n",
    "    for k in colnames_num:\n",
    "        freq.loc[0,'count_'+str(k)] = collections.Counter(file.precinctID)[k]-collections.Counter(geo.precinctID)[k]\n",
    "\n",
    "    #Adjustment of the frequencies\n",
    "    \n",
    "    # Adjusting count by number of group elements for each precinct typology\n",
    "\n",
    "    if 'count_101' in freq.columns:\n",
    "        freq['count_101']= freq['count_101']/2\n",
    "    if 'count_102' in freq.columns:\n",
    "        freq['count_102'] = freq['count_102']/3\n",
    "    if 'count_201' in freq.columns:\n",
    "        freq['count_201'] = freq['count_201']/2\n",
    "    if 'count_202' in freq.columns:\n",
    "        freq['count_202'] = freq['count_202']/3\n",
    "    if 'count_203' in freq.columns:\n",
    "        freq['count_203'] = freq['count_203']/4\n",
    "    if 'count_204' in freq.columns:\n",
    "        freq['count_204'] = freq['count_204']/3\n",
    "    if 'count_205' in freq.columns:\n",
    "        freq['count_205'] = freq['count_205']/3\n",
    "    if 'count_206' in freq.columns:\n",
    "        freq['count_206'] = freq['count_206']/2\n",
    "    if 'count_207' in freq.columns:\n",
    "        freq['count_207'] = freq['count_207']/3\n",
    "    if 'count_301' in freq.columns:\n",
    "        freq['count_301'] = freq['count_301']/2\n",
    "    if 'count_302' in freq.columns:\n",
    "        freq['count_302'] = freq['count_302']/3\n",
    "    if 'count_303' in freq.columns:\n",
    "        freq['count_303'] = freq['count_303']/2\n",
    "        \n",
    "    freq.insert(len(colnames),'total', freq.values.sum())\n",
    "    \n",
    "    freq = freq.astype(int)\n",
    "    #Add author_id to the dataframe as first (0th) row\n",
    "    freq.insert(0, 'author_id', author_id, allow_duplicates=False)\n",
    "    return freq"
   ]
  },
  {
   "cell_type": "markdown",
   "metadata": {},
   "source": [
    "Calculating averages for specific objects and object groups"
   ]
  },
  {
   "cell_type": "code",
   "execution_count": 101,
   "metadata": {},
   "outputs": [],
   "source": [
    "#Calculating the average for specific types, here just one example\n",
    "\n",
    "# Defining which authors contributed useful submissions\n",
    "# Delete non-useful submissions (manually decided, quite strict), author_id 16 was already deleted before\n",
    "x = [11,12,18,20,26,27,28,50,53,55,94,106,108,109,116,117,122,120,135,137]\n",
    "author_id_a = sorted(list(set(author_id_a).difference(set(x))))\n",
    "#author_id_a = pd.DataFrame(author_id_a, columns = ['author_id_a'])"
   ]
  },
  {
   "cell_type": "code",
   "execution_count": 272,
   "metadata": {},
   "outputs": [],
   "source": [
    "def counter_old_mean(authors,obj):\n",
    "   \n",
    "    #Input for authors: list of author_id\n",
    "    s = pd.DataFrame()\n",
    "    for i in authors:\n",
    "        s = s.append(counter_old('geo_a_'+str(i),obj))\n",
    "    #s = float(s / len(authors))\n",
    "    col = list(s.columns.values)\n",
    "\n",
    "    t = s[col[1:len(col)]].mean(axis=0)\n",
    "    t = list(t)\n",
    "    return col[1:len(col)], t"
   ]
  },
  {
   "cell_type": "code",
   "execution_count": 371,
   "metadata": {},
   "outputs": [],
   "source": [
    "col = counter_old_mean(author_id_a,'ALL')[0]\n",
    "\n",
    "colnames = []\n",
    "\n",
    "for k in col:\n",
    "    colnames.append(dic[k])"
   ]
  },
  {
   "cell_type": "code",
   "execution_count": 399,
   "metadata": {},
   "outputs": [],
   "source": [
    "# Define function for plotting barchar from the average number of objects\n",
    "\n",
    "def counter_old_bar(authors, obj= 'ALL',total = False):\n",
    "    \n",
    "    pf = pd.read_csv('Precincts_final.csv')\n",
    "\n",
    "    colnames_num = [101,102,201,202,203,204,205,206,207,301,302,303,401,402,403]\n",
    "\n",
    "    dic = {}\n",
    "    for k,l in enumerate(colnames_num):\n",
    "        dic['count_'+str(l)]=pf.name[k]\n",
    "    dic['total']='total'\n",
    "\n",
    "    col, mean_count = counter_old_mean(authors,obj)\n",
    "    \n",
    "    if total == False:\n",
    "        col.remove('total')\n",
    "        del mean_count[-1]\n",
    "    \n",
    "    colnames = []\n",
    "    for k in col:\n",
    "        colnames.append(dic[k])\n",
    "    \n",
    "    plt.bar(np.arange(len(mean_count)),mean_count,align='center', color=['#7A9E7E'])\n",
    "    plt.xticks(np.arange(len(mean_count)),colnames,rotation='vertical')\n",
    "    plt.title(\"Average number of objects\")\n",
    "    #plt.savefig('figures/fig_bar_'+str(i)+'.png')\n",
    "    plt.show()"
   ]
  },
  {
   "cell_type": "markdown",
   "metadata": {
    "scrolled": false
   },
   "source": [
    "Calculating 'Number Of Units'"
   ]
  },
  {
   "cell_type": "code",
   "execution_count": 519,
   "metadata": {},
   "outputs": [],
   "source": [
    "def units_old(file):\n",
    "    \n",
    "    pf = pd.read_csv('Precincts_final.csv')\n",
    "    \n",
    "    col = counter_old(file,'buildings')\n",
    "    col = col.drop('total',axis=1)\n",
    "    col = col.drop('author_id',axis=1)\n",
    "    \n",
    "    colnames_num = [101,102,201,202,203,204,205,206,207,301,302,303]\n",
    "\n",
    "    dic = {}\n",
    "    for k,l in enumerate(colnames_num):\n",
    "        dic['count_'+str(l)]=pf.numberOfUnits[k]\n",
    "    \n",
    "    s = 0\n",
    "    for i in range(0,len(col.columns)):\n",
    "        s += dic[col.columns.values[i]] * col[col.columns.values[i]][0]\n",
    "    s = int(s)   \n",
    "    return s"
   ]
  },
  {
   "cell_type": "code",
   "execution_count": 512,
   "metadata": {},
   "outputs": [],
   "source": [
    "def units_old_mean(authors):\n",
    "    \n",
    "    pf = pd.read_csv('Precincts_final.csv')\n",
    "    \n",
    "    col, val = counter_old_mean(authors,'buildings')\n",
    "    del col[-1]\n",
    "    \n",
    "    colnames_num = [101,102,201,202,203,204,205,206,207,301,302,303]\n",
    "\n",
    "    dic = {}\n",
    "    for k,l in enumerate(colnames_num):\n",
    "        dic['count_'+str(l)]=pf.numberOfUnits[k]\n",
    "    \n",
    "    s = 0\n",
    "    for i in range(0,len(col)):\n",
    "        s += (dic[col[i]] * val[i])\n",
    "        \n",
    "    return s"
   ]
  },
  {
   "cell_type": "markdown",
   "metadata": {},
   "source": [
    "Calculating the total tile area, total plot area and GPR"
   ]
  },
  {
   "cell_type": "code",
   "execution_count": 564,
   "metadata": {},
   "outputs": [],
   "source": [
    "def tile_area_old(file):\n",
    "    \n",
    "    pf = pd.read_csv('Precincts_final.csv')\n",
    "    \n",
    "    col = counter_old(file,'buildings')\n",
    "    col = col.drop('total',axis=1)\n",
    "    col = col.drop('author_id',axis=1)\n",
    "    \n",
    "    colnames_num = [101,102,201,202,203,204,205,206,207,301,302,303]\n",
    "\n",
    "    dic = {}\n",
    "    for k,l in enumerate(colnames_num):\n",
    "        dic['count_'+str(l)]=pf.tileArea[k]\n",
    "    \n",
    "    a = 0\n",
    "    for i in range(0,len(col.columns)):\n",
    "        a += dic[col.columns.values[i]] * col[col.columns.values[i]][0]  \n",
    "        \n",
    "    part = round((a / 1.7) * 100,2)\n",
    "    \n",
    "    return a, part"
   ]
  },
  {
   "cell_type": "code",
   "execution_count": 565,
   "metadata": {},
   "outputs": [],
   "source": [
    "def tile_area_old_mean(authors):\n",
    "    \n",
    "    pf = pd.read_csv('Precincts_final.csv')\n",
    "    \n",
    "    col, val = counter_old_mean(authors,'buildings')\n",
    "    del col[-1]\n",
    "    \n",
    "    colnames_num = [101,102,201,202,203,204,205,206,207,301,302,303]\n",
    "\n",
    "    dic = {}\n",
    "    for k,l in enumerate(colnames_num):\n",
    "        dic['count_'+str(l)]=pf.tileArea[k]\n",
    "    \n",
    "    a = 0\n",
    "    for i in range(0,len(col)):\n",
    "        a += (dic[col[i]] * val[i])\n",
    "        \n",
    "    part = round((a / 1.7) * 100,2)\n",
    "    \n",
    "    return a, part"
   ]
  },
  {
   "cell_type": "code",
   "execution_count": 566,
   "metadata": {},
   "outputs": [],
   "source": [
    "def plot_area_old(file):\n",
    "    \n",
    "    pf = pd.read_csv('Precincts_final.csv')\n",
    "    \n",
    "    col = counter_old(file,'buildings')\n",
    "    col = col.drop('total',axis=1)\n",
    "    col = col.drop('author_id',axis=1)\n",
    "    \n",
    "    colnames_num = [101,102,201,202,203,204,205,206,207,301,302,303]\n",
    "\n",
    "    dic = {}\n",
    "    for k,l in enumerate(colnames_num):\n",
    "        dic['count_'+str(l)]=pf.plotArea[k]\n",
    "    \n",
    "    a = 0\n",
    "    for i in range(0,len(col.columns)):\n",
    "        a += dic[col.columns.values[i]] * col[col.columns.values[i]][0]  \n",
    "        \n",
    "    part = round((a / 1.7) * 100,2)\n",
    "    \n",
    "    return a, part"
   ]
  },
  {
   "cell_type": "code",
   "execution_count": 567,
   "metadata": {},
   "outputs": [],
   "source": [
    "def plot_area_old_mean(authors):\n",
    "    \n",
    "    pf = pd.read_csv('Precincts_final.csv')\n",
    "    \n",
    "    col, val = counter_old_mean(authors,'buildings')\n",
    "    del col[-1]\n",
    "    \n",
    "    colnames_num = [101,102,201,202,203,204,205,206,207,301,302,303]\n",
    "\n",
    "    dic = {}\n",
    "    for k,l in enumerate(colnames_num):\n",
    "        dic['count_'+str(l)]=pf.plotArea[k]\n",
    "    \n",
    "    a = 0\n",
    "    for i in range(0,len(col)):\n",
    "        a += (dic[col[i]] * val[i])\n",
    "        \n",
    "    part = round((a / 1.7) * 100,2)\n",
    "    \n",
    "    return a, part"
   ]
  },
  {
   "cell_type": "code",
   "execution_count": 574,
   "metadata": {},
   "outputs": [],
   "source": [
    "def gpr_old(file):\n",
    "    \n",
    "    pf = pd.read_csv('Precincts_final.csv')\n",
    "    \n",
    "    col = counter_old(file,'buildings')\n",
    "    col = col.drop('total',axis=1)\n",
    "    col = col.drop('author_id',axis=1)\n",
    "    \n",
    "    colnames_num = [101,102,201,202,203,204,205,206,207,301,302,303]\n",
    "\n",
    "    dic = {}\n",
    "    for k,l in enumerate(colnames_num):\n",
    "        dic['count_'+str(l)]=pf.floorArea[k]\n",
    "    \n",
    "    a = 0\n",
    "    for i in range(0,len(col.columns)):\n",
    "        a += dic[col.columns.values[i]] * col[col.columns.values[i]][0]  \n",
    "        \n",
    "    gpr = round(a / 1.7,2)\n",
    "    \n",
    "    return gpr, a"
   ]
  },
  {
   "cell_type": "code",
   "execution_count": 572,
   "metadata": {},
   "outputs": [],
   "source": [
    "def gpr_old_mean(authors):\n",
    "    \n",
    "    pf = pd.read_csv('Precincts_final.csv')\n",
    "    \n",
    "    col, val = counter_old_mean(authors,'buildings')\n",
    "    del col[-1]\n",
    "    \n",
    "    colnames_num = [101,102,201,202,203,204,205,206,207,301,302,303]\n",
    "\n",
    "    dic = {}\n",
    "    for k,l in enumerate(colnames_num):\n",
    "        dic['count_'+str(l)]=pf.floorArea[k]\n",
    "    \n",
    "    a = 0\n",
    "    for i in range(0,len(col)):\n",
    "        a += (dic[col[i]] * val[i])\n",
    "        \n",
    "    gpr = round(a / 1.7,2)\n",
    "    \n",
    "    return gpr, a"
   ]
  },
  {
   "cell_type": "code",
   "execution_count": 590,
   "metadata": {},
   "outputs": [
    {
     "data": {
      "text/plain": [
       "[29, 59, 61, 68, 79, 83, 87, 89, 90, 92, 93, 105, 107, 110, 111, 112, 123, 130]"
      ]
     },
     "execution_count": 590,
     "metadata": {},
     "output_type": "execute_result"
    }
   ],
   "source": [
    "tile_area_old"
   ]
  },
  {
   "cell_type": "code",
   "execution_count": 625,
   "metadata": {},
   "outputs": [],
   "source": [
    "x = []\n",
    "y = []\n",
    "for i in author_id_a:\n",
    "    x.append(units_old('geo_a_'+str(i)))\n",
    "    y.append(tile_area_old('geo_a_'+str(i))[0])\n"
   ]
  },
  {
   "cell_type": "code",
   "execution_count": 626,
   "metadata": {},
   "outputs": [
    {
     "data": {
      "image/png": "[encoded data removed]",
      "text/plain": [
       "<matplotlib.figure.Figure at 0x11cbbaa90>"
      ]
     },
     "metadata": {},
     "output_type": "display_data"
    },
    {
     "data": {
      "image/png": "[encoded data removed]",
      "text/plain": [
       "<matplotlib.figure.Figure at 0x120bee208>"
      ]
     },
     "metadata": {},
     "output_type": "display_data"
    }
   ],
   "source": [
    "#x.append(70000)\n",
    "#y.append(4.5)\n",
    "#If 70000 units should be built on this ground (4.5 as far as I know), 26444 must be in average built on that site (size: 1.7).\n",
    "plt.scatter(x,y)\n",
    "plt.show()\n",
    "plt.boxplot(y)\n",
    "plt.show()"
   ]
  },
  {
   "cell_type": "code",
   "execution_count": null,
   "metadata": {},
   "outputs": [],
   "source": []
  },
  {
   "cell_type": "code",
   "execution_count": null,
   "metadata": {},
   "outputs": [],
   "source": [
    "# Calculating Gross Flot Ratio:\n",
    "# https://en.wikipedia.org/wiki/Floor_area_(building)#In_Singapore\n",
    "# The NUS campus and ONLINE study worked with two different study areas:\n",
    "# Study area NUS Campus [in square kilometer]\n",
    "area_total = 1.7\n",
    "#Study areas for online study\n",
    "area_1 = 0.546715\n",
    "area_2 = 0.322409\n",
    "#Please note that some participants just built on area_1 (where the spawn point of objects was)\n",
    "# The areas for each object can be found in prec_desc\n",
    "# Explanation: plotArea: area of the building plot (without the surrounding green), floorArea: levels*plotArea, \n",
    "# tileArea: area of the platform (greenery around building + plotArea), floorAreaRatio: floorArea/tileArea\n",
    "# Greeneries do not need to be considered as they do not count for the GFA\n"
   ]
  }
 ],
 "metadata": {
  "kernelspec": {
   "display_name": "Python 3",
   "language": "python",
   "name": "python3"
  },
  "language_info": {
   "codemirror_mode": {
    "name": "ipython",
    "version": 3
   },
   "file_extension": ".py",
   "mimetype": "text/x-python",
   "name": "python",
   "nbconvert_exporter": "python",
   "pygments_lexer": "ipython3",
   "version": "3.6.4"
  }
 },
 "nbformat": 4,
 "nbformat_minor": 2
}
