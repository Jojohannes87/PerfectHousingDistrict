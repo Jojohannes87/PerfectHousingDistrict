{
 "cells": [
  {
   "cell_type": "code",
   "execution_count": 1,
   "metadata": {},
   "outputs": [],
   "source": [
    "# important library\n",
    "import psycopg2\n",
    "import psycopg2.extras\n",
    "import sys\n",
    "import pprint\n",
    "import pandas as pd\n",
    "import numpy as np\n",
    "import matplotlib.pyplot as plt\n",
    "import json\n",
    "import re\n",
    "from PIL import Image\n",
    "import PIL.Image\n",
    "import collections\n",
    "import io\n",
    "from IPython.display import Image\n",
    "from shapely.geometry.multipolygon import MultiPolygon\n",
    "from shapely.geometry.polygon import Polygon\n",
    "from shapely.geometry.point import Point\n",
    "#from shapely.geometry.multipoint import MultiPoint\n",
    "import geopandas as gpd\n",
    "from descartes.patch import PolygonPatch\n",
    "import os\n",
    "from PIL import Image\n",
    "\n",
    "#from figures import BLUE, SIZE, set_limits, plot_coords, color_isvalid"
   ]
  },
  {
   "cell_type": "code",
   "execution_count": 2,
   "metadata": {},
   "outputs": [
    {
     "name": "stdout",
     "output_type": "stream",
     "text": [
      "Connecting to database\n",
      "\t->host='localhost' dbname='WTP_NUS_library'\n",
      "Connected!\n",
      "\n"
     ]
    }
   ],
   "source": [
    "# connect to database. Postgres must be opened!\n",
    "conn_string = \"host='localhost' dbname='WTP_NUS_library'\"\n",
    "print (\"Connecting to database\\n\t->%s\" % (conn_string))\n",
    "conn = psycopg2.connect(conn_string)\n",
    "print (\"Connected!\\n\")"
   ]
  },
  {
   "cell_type": "code",
   "execution_count": 3,
   "metadata": {},
   "outputs": [],
   "source": [
    "# all users\n",
    "db_users = pd.read_sql_query (\"SELECT * FROM \\\"user\\\"\", conn)\n",
    "# number of submission for each users\n",
    "db_count_submissions = pd.read_sql_query(\"\"\"SELECT author_id,COUNT(scenario.id) as n FROM SCENARIO GROUP BY author_id ORDER BY author_id\"\"\",conn)\n",
    "# latest submission\n",
    "db_scenarios_late = pd.read_sql_query(\"SELECT id, author_id, last_update, description, image, encode(geometry,'escape') as geo FROM scenario as a WHERE id = (SELECT max(b.id) FROM scenario as b where a.author_id = b.author_id) ORDER BY author_id\", conn)"
   ]
  },
  {
   "cell_type": "code",
   "execution_count": 4,
   "metadata": {},
   "outputs": [],
   "source": [
    "# all user actions\n",
    "db_user_scenario_load =pd.read_sql_query( \"SELECT * FROM user_scenario_load\",conn)\n",
    "db_user_scenario_update =pd.read_sql_query( \"SELECT * FROM user_scenario_update\",conn)\n",
    "db_user_scenario_action =pd.read_sql_query( \"SELECT * FROM user_scenario_action\",conn)"
   ]
  },
  {
   "cell_type": "code",
   "execution_count": 5,
   "metadata": {},
   "outputs": [],
   "source": [
    "# all cross feedback\n",
    "db_criterion = pd.read_sql_query( \"SELECT * FROM criterion\",conn)\n",
    "db_vote = pd.read_sql_query( \"SELECT * FROM vote\",conn)\n",
    "db_peer_review = pd.read_sql_query( \"SELECT * FROM review\",conn)\n",
    "db_expert_review = pd.read_sql_query(\"SELECT * FROM  expert_review\",conn)\n",
    "db_voter_score = pd.read_sql_query(\"SELECT * FROM vote_rating\", conn)\n",
    "db_voter_scenario = pd.read_sql_query(\"SELECT * FROM scenario\", conn)"
   ]
  },
  {
   "cell_type": "code",
   "execution_count": 6,
   "metadata": {},
   "outputs": [],
   "source": [
    "# final grade and ratings\n",
    "db_grade = pd.read_sql_query(\"SELECT * FROM current_scenario\", conn)"
   ]
  },
  {
   "cell_type": "code",
   "execution_count": 7,
   "metadata": {},
   "outputs": [],
   "source": [
    "#Short cuts for important tables\n",
    "ld = db_user_scenario_load\n",
    "ud = db_user_scenario_update\n",
    "ac = db_user_scenario_action\n",
    "lt = db_scenarios_late\n",
    "sc = db_voter_scenario"
   ]
  },
  {
   "cell_type": "markdown",
   "metadata": {},
   "source": [
    "Reading data and data cleansing"
   ]
  },
  {
   "cell_type": "code",
   "execution_count": 8,
   "metadata": {},
   "outputs": [],
   "source": [
    "## Extract the geojson data from all designs\n",
    "\n",
    "regex = re.compile(r'\\\\(?![/u\"])')\n",
    "for i, geo_val in enumerate(db_scenarios_late.geo):\n",
    "  #Select if Exercise 1a, 1b or 1c should be chosen. It is the 19th letter in each db_scenarios_late.geo file\n",
    "  if lt.geo[i][19]=='a':\n",
    "    fixed = regex.sub(r\"\\\\\\\\\", geo_val) #remove the \"/\" in some fields to for json conversion\n",
    "    b = json.loads(fixed)\n",
    "    # this would remove an empty MultiLineString object so that it can be displayed in the current qua-viewer. However the shape is still distorted because of the limitation of allowed vertex\n",
    "    with open(\"output/geo_a_\" + str(db_scenarios_late.loc[i,'author_id']) + \".json\",\"w\") as f:\n",
    "        json.dump(b,f)"
   ]
  },
  {
   "cell_type": "code",
   "execution_count": 9,
   "metadata": {},
   "outputs": [],
   "source": [
    "#Read the original geojson file for the exercise\n",
    "geo = gpd.read_file('Exercise_1a_reflex_for_upload.geojson')"
   ]
  },
  {
   "cell_type": "code",
   "execution_count": 10,
   "metadata": {},
   "outputs": [],
   "source": [
    "#Create dictionary with all geojson files for exercise 1a\n",
    "geo_a={}\n",
    "for i,j in enumerate(lt['author_id']):\n",
    "    if lt.geo[i][19]=='a':\n",
    "        geo_a[\"geo_author_{0}\".format(j)]= gpd.read_file('output/geo_a_'+str(j)+'.json')"
   ]
  },
  {
   "cell_type": "code",
   "execution_count": 11,
   "metadata": {},
   "outputs": [],
   "source": [
    "# Create list of all authors that worked on Exercise 1a\n",
    "author_id_a = []\n",
    "for i,j in enumerate(lt['author_id']):\n",
    "    if lt.geo[i][19]=='a':\n",
    "        author_id_a.append(j)\n",
    "# Delete buggy submissions (manually detected)\n",
    "y = [11,12,16,18,20,26,27,28,50,53,55,94,106,108,109,116,117,122,135,137]\n",
    "author_id_a = sorted(list(set(author_id_a).difference(set(y))))\n",
    "for i in y:\n",
    "    os.remove('output/geo_a_'+str(i)+'.json')"
   ]
  },
  {
   "cell_type": "code",
   "execution_count": 12,
   "metadata": {},
   "outputs": [],
   "source": [
    "# Getting screenshots from last position. Creating \"photo dictionnary\"\n",
    "photodic={}\n",
    "for i in range(0,len(sc)):\n",
    "    photodic[\"Photo_{0}\".format(i)]=io.BytesIO(sc.loc[i,'image'])\n",
    "#Save images in screenshots folder\n",
    "for i in range(0,len(sc)):\n",
    "    if sc.author_id[i] in author_id_a:\n",
    "        image=Image.open(photodic[\"Photo_\"+str(i)])\n",
    "        image.save(\"screenshots/Ex_\"+str(sc.exercise_id[i])+\"_author_\"+str(sc.author_id[i])+\".png\",\"PNG\")"
   ]
  },
  {
   "cell_type": "code",
   "execution_count": 13,
   "metadata": {},
   "outputs": [],
   "source": [
    "#Data correction: For 'Chinatown, Central Area', the precinctID is missing in the original data set\n",
    "for j in list(author_id_a):\n",
    "    for i in range(0,len(geo_a['geo_author_'+str(j)])):\n",
    "        if geo_a['geo_author_'+str(j)]['precinctName'][i] == \"Chinatown, Central Area\":\n",
    "            geo_a['geo_author_'+str(j)].loc[i,'precinctID'] = 102\n",
    "        if geo_a['geo_author_'+str(j)]['name'][i] == \"greenery small\":\n",
    "            geo_a['geo_author_'+str(j)].loc[i,'precinctID'] = 401\n",
    "        if geo_a['geo_author_'+str(j)]['name'][i] == \"greenery medium\":\n",
    "            geo_a['geo_author_'+str(j)].loc[i,'precinctID'] = 402\n",
    "        if geo_a['geo_author_'+str(j)]['name'][i] == \"greenery large\":\n",
    "            geo_a['geo_author_'+str(j)].loc[i,'precinctID'] = 403\n",
    "#Overwrite existing .json files with updated precinctID\n",
    "    with open('output/geo_a_'+str(j)+'.json', 'w') as f:\n",
    "        f.write(geo_a['geo_author_'+str(j)].to_json())\n",
    "#Change original geojson file with added precinctID for the greenery\n",
    "for i in range(1,len(geo)):\n",
    "    if geo.loc[i,'name'] == 'greenery small':\n",
    "        geo.loc[i,'precinctID'] = 401\n",
    "    if geo.loc[i,'name'] == 'greenery medium':\n",
    "        geo.loc[i,'precinctID'] = 402\n",
    "    if geo.loc[i,'name'] == 'greenery large':\n",
    "        geo.loc[i,'precinctID'] = 403\n",
    "with open('Exercise_1a_reflex_for_upload_updated.json', 'w') as f:\n",
    "        f.write(geo.to_json())"
   ]
  },
  {
   "cell_type": "markdown",
   "metadata": {},
   "source": [
    "## Let's start the visualisations"
   ]
  },
  {
   "cell_type": "markdown",
   "metadata": {},
   "source": [
    "Working with the 2D geometry of the objects"
   ]
  },
  {
   "cell_type": "code",
   "execution_count": 22,
   "metadata": {},
   "outputs": [],
   "source": [
    "# Duplicates must been identified by ID as the geometry is in the original version rounded, in the submission files not.\n",
    "new_IDs = list(set(geo_a['geo_author_105']['geomID']).difference(set(geo['geomID'])))\n",
    "new_index = []\n",
    "for i in new_IDs:\n",
    "    new_index.append(geo_a['geo_author_105']['geomID'].tolist().index(i))"
   ]
  },
  {
   "cell_type": "code",
   "execution_count": 23,
   "metadata": {},
   "outputs": [],
   "source": [
    "#Defining the specific precinctID and choose only the newly placed items\n",
    "c = [101,102,201,202]\n",
    "d = geo_a['geo_author_105'].loc[geo_a['geo_author_105']['geomID'].isin(new_IDs) & geo_a['geo_author_105']['precinctID'].isin(c)]"
   ]
  },
  {
   "cell_type": "code",
   "execution_count": 24,
   "metadata": {},
   "outputs": [],
   "source": [
    "multi_poly = []\n",
    "poly = []\n",
    "for i in d.geometry:\n",
    "    if isinstance(i,MultiPolygon):\n",
    "        multi_poly.append(i)\n",
    "\n",
    "for i in d.geometry:\n",
    "    if isinstance(i,Polygon):\n",
    "        poly.append(i)"
   ]
  },
  {
   "cell_type": "code",
   "execution_count": 91,
   "metadata": {},
   "outputs": [
    {
     "data": {
      "image/svg+xml": [
       "<svg xmlns=\"http://www.w3.org/2000/svg\" xmlns:xlink=\"http://www.w3.org/1999/xlink\" width=\"300\" height=\"300\" viewBox=\"-1023.76 -1220.76 2396.52 1749.52\" preserveAspectRatio=\"xMinYMin meet\"><g transform=\"matrix(1,0,0,-1,0,-692.0)\"><g><path fill-rule=\"evenodd\" fill=\"#66cc99\" stroke=\"#555555\" stroke-width=\"15.976799999999999\" opacity=\"0.6\" d=\"M -935.0,-388.0 L -101.0,-363.0 L 580.0,-1023.0 L 690.0,-904.0 L 435.0,-590.0 L 567.0,-446.0 L 850.0,-760.0 L 1186.0,-1132.0 L 1284.0,-1050.0 L 1115.0,-856.0 L 1165.0,-820.0 L 1227.0,-820.0 L 1227.0,-304.0 L 1228.0,212.0 L 1084.0,309.0 L 768.0,440.0 L 566.0,208.0 L 526.0,208.0 L 460.0,214.0 L 367.0,214.0 L 242.0,211.0 L 50.0,205.0 L -97.0,201.0 L -102.0,250.0 L -935.0,220.0 L -935.0,-388.0 z\" /></g></g></svg>"
      ],
      "text/plain": [
       "<shapely.geometry.multipolygon.MultiPolygon at 0x11c032dd8>"
      ]
     },
     "execution_count": 91,
     "metadata": {},
     "output_type": "execute_result"
    }
   ],
   "source": [
    "#geo_a['geo_author_105'].loc[geo_a['geo_author_105']['special']=='forcedArea']['geometry']\n",
    "MultiPolygon([geo_a['geo_author_105']['geometry'][1]])"
   ]
  },
  {
   "cell_type": "code",
   "execution_count": 100,
   "metadata": {},
   "outputs": [
    {
     "data": {
      "image/png": "[encoded data removed]",
      "text/plain": [
       "<matplotlib.figure.Figure at 0x11dc98fd0>"
      ]
     },
     "metadata": {},
     "output_type": "display_data"
    }
   ],
   "source": [
    "from matplotlib import pyplot\n",
    "from shapely.geometry import MultiPolygon\n",
    "from descartes.patch import PolygonPatch\n",
    "\n",
    "#from figures import SIZE\n",
    "\n",
    "COLOR = {\n",
    "    True:  '#6699cc',\n",
    "    False: '#ff3333'\n",
    "    }\n",
    "\n",
    "def v_color(ob):\n",
    "    return COLOR[ob.is_valid]\n",
    "\n",
    "def plot_coords(ax, ob):\n",
    "    x, y = ob.xy\n",
    "    ax.plot(x, y, 'o', color='#999999', zorder=1)\n",
    "    \n",
    "fig = pyplot.figure(1, figsize=(8,8), dpi=300)\n",
    "\n",
    "# 1: valid multi-polygon\n",
    "ax = fig.add_subplot(121)\n",
    "\n",
    "#a = [(0, 0), (0, 1), (1, 1), (1, 0), (0, 0)]\n",
    "#b = [(1, 1), (1, 2), (2, 2), (2, 1), (1, 1)]\n",
    "\n",
    "#multi1 = MultiPolygon([[a, []], [b, []]])\n",
    "multi1 = MultiPolygon(multi_poly)\n",
    "\n",
    "for polygon in multi1:\n",
    "    plot_coords(ax, polygon.exterior)\n",
    "    patch = PolygonPatch(polygon, facecolor=v_color(multi1), edgecolor=v_color(multi1), alpha=0.5, zorder=2)\n",
    "    ax.add_patch(patch)\n",
    "patch = PolygonPatch(Polygon(geo_a['geo_author_105']['geometry'][1]))\n",
    "ax.add_patch(patch)\n",
    "\n",
    "\n",
    "ax.set_title('Example')\n",
    "\n",
    "xrange = [-1000,1300]\n",
    "yrange = [-1200,500]\n",
    "ax.set_xlim(*xrange)\n",
    "#ax.set_xticks(range(*xrange) + [xrange[-1]])\n",
    "ax.set_ylim(*yrange)\n",
    "#ax.set_yticks(range(*yrange) + [yrange[-1]])\n",
    "ax.set_aspect(1)\n",
    "\n",
    "pyplot.show()"
   ]
  },
  {
   "cell_type": "code",
   "execution_count": null,
   "metadata": {},
   "outputs": [],
   "source": [
    "x_lon = np.zeros((len(multi_poly),1))\n",
    "#y_lat = np.zeros((len(shape_ex.points),1))\n",
    "#for ip in range(len(shape_ex.points)):\n",
    "#    x_lon[ip] = shape_ex.points[ip][0]\n",
    "#    y_lat[ip] = shape_ex.points[ip][1]\n",
    "#plt.plot(MultiPolygon(multi_poly))"
   ]
  },
  {
   "cell_type": "code",
   "execution_count": null,
   "metadata": {},
   "outputs": [],
   "source": [
    "MultiPolygon(multi_poly)"
   ]
  },
  {
   "cell_type": "code",
   "execution_count": null,
   "metadata": {},
   "outputs": [],
   "source": [
    "print(multi_poly_geo[44])"
   ]
  },
  {
   "cell_type": "code",
   "execution_count": null,
   "metadata": {},
   "outputs": [],
   "source": []
  },
  {
   "cell_type": "code",
   "execution_count": null,
   "metadata": {},
   "outputs": [],
   "source": []
  },
  {
   "cell_type": "code",
   "execution_count": null,
   "metadata": {},
   "outputs": [],
   "source": []
  },
  {
   "cell_type": "code",
   "execution_count": null,
   "metadata": {},
   "outputs": [],
   "source": []
  },
  {
   "cell_type": "code",
   "execution_count": null,
   "metadata": {},
   "outputs": [],
   "source": []
  },
  {
   "cell_type": "code",
   "execution_count": null,
   "metadata": {},
   "outputs": [],
   "source": []
  },
  {
   "cell_type": "code",
   "execution_count": null,
   "metadata": {},
   "outputs": [],
   "source": [
    "#polys = [Polygon(item) for item in lists]\n",
    "\n",
    "uniqpolies = []\n",
    "for pol in multipoly:\n",
    "\n",
    "    if not any(p.intersects(pol) for p in uniqpolies):\n",
    "        uniqpolies.append(pol)"
   ]
  },
  {
   "cell_type": "code",
   "execution_count": null,
   "metadata": {},
   "outputs": [],
   "source": [
    "lists = [[(1,1),(1.5,1.5),(3,3),(4,4)], [(6,6),(7,7),(8,8),(9,9)], [(1,1),(2,2),(3,3),(4,4)]]\n",
    "polys = [Polygon(item) for item in lists] ##This is given condition\n",
    "uniqpolies = []\n",
    "for poly in polys:\n",
    "\n",
    "    if not any(p.equals(poly) for p in uniqpolies):\n",
    "        uniqpolies.append(poly)"
   ]
  },
  {
   "cell_type": "code",
   "execution_count": null,
   "metadata": {},
   "outputs": [],
   "source": [
    "type(multi_poly)"
   ]
  },
  {
   "cell_type": "code",
   "execution_count": null,
   "metadata": {},
   "outputs": [],
   "source": []
  },
  {
   "cell_type": "code",
   "execution_count": null,
   "metadata": {},
   "outputs": [],
   "source": [
    "uniqpolies = []\n",
    "for p in MultiPolygon(multi_poly):\n",
    "    MultiPolygon(poly)\n",
    "    #if not p in MultiPolygon(multi_poly_geo):\n",
    "    #    uniqpolies.append(p)"
   ]
  },
  {
   "cell_type": "code",
   "execution_count": null,
   "metadata": {},
   "outputs": [],
   "source": []
  },
  {
   "cell_type": "code",
   "execution_count": null,
   "metadata": {},
   "outputs": [],
   "source": []
  },
  {
   "cell_type": "code",
   "execution_count": null,
   "metadata": {},
   "outputs": [],
   "source": []
  },
  {
   "cell_type": "code",
   "execution_count": null,
   "metadata": {},
   "outputs": [],
   "source": []
  },
  {
   "cell_type": "code",
   "execution_count": null,
   "metadata": {},
   "outputs": [],
   "source": []
  },
  {
   "cell_type": "code",
   "execution_count": null,
   "metadata": {},
   "outputs": [],
   "source": []
  },
  {
   "cell_type": "code",
   "execution_count": null,
   "metadata": {},
   "outputs": [],
   "source": []
  },
  {
   "cell_type": "code",
   "execution_count": null,
   "metadata": {},
   "outputs": [],
   "source": [
    "plt.figure(1, figsize=(8,6), dpi=90)\n",
    "\n",
    "ax = plt.axes()\n",
    "#ax.set_aspect('equal')\n",
    "\n",
    "#shape_ex = sf.shape(5) # could break if selected shape has multiple polygons. \n",
    "\n",
    "# build the polygon from exterior points\n",
    "geo_a['geo_author_105'][geo_a['geo_author_105']['function']=='platform']\n",
    "#patch = PolygonPatch(polygon, facecolor=[0,0,0.5], edgecolor=[0,0,0], alpha=0.7, zorder=2)\n",
    "#ax.add_patch(patch)\n",
    "\n",
    "\n",
    "#f, ax = plt.subplots(1)\n",
    "#ax.plot(xvals, yvals1)\n",
    "#ax.plot(xvals, yvals2)\n",
    "#plot(geo_a['geo_author_105'][geo_a['geo_author_105']['function']=='platform']['geometry'][215])\n",
    "#geo_a['geo_author_105'][geo_a['geo_author_105']['function']=='platform']['geometry'][225]\n",
    "#geo_a['geo_author_105'][geo_a['geo_author_105']['function']=='platform']['geometry'][227]"
   ]
  },
  {
   "cell_type": "code",
   "execution_count": null,
   "metadata": {},
   "outputs": [],
   "source": []
  },
  {
   "cell_type": "code",
   "execution_count": null,
   "metadata": {},
   "outputs": [],
   "source": []
  }
 ],
 "metadata": {
  "kernelspec": {
   "display_name": "Python 3",
   "language": "python",
   "name": "python3"
  },
  "language_info": {
   "codemirror_mode": {
    "name": "ipython",
    "version": 3
   },
   "file_extension": ".py",
   "mimetype": "text/x-python",
   "name": "python",
   "nbconvert_exporter": "python",
   "pygments_lexer": "ipython3",
   "version": "3.6.4"
  }
 },
 "nbformat": 4,
 "nbformat_minor": 2
}
